{
 "cells": [
  {
   "cell_type": "markdown",
   "metadata": {},
   "source": [
    "When Michelangelo was asked how he could sculpt a work of art as masterful as his\n",
    "David, he is famously reported to have said, “It is easy. You just chip away the stone\n",
    "that doesn’t look like David.”\n",
    "\n",
    "Although web scraping is unlike marble sculpting in most other respects, you must\n",
    "take a similar attitude when it comes to extracting the information you’re seeking\n",
    "from complicated web pages. In this chapter, we’ll explore various techniques to chip\n",
    "away any content that doesn’t look like content you want, until you arrive at the information\n",
    "you’re seeking. Complicated HTML pages may be look intimidating at first,\n",
    "but just keep chipping!"
   ]
  },
  {
   "cell_type": "markdown",
   "metadata": {},
   "source": [
    "### Another Serving of BeautifulSoup"
   ]
  },
  {
   "cell_type": "markdown",
   "metadata": {},
   "source": [
    "In Chapter 4, you took a quick look at installing and running BeautifulSoup, as well\n",
    "as selecting objects one at a time. In this section, we’ll discuss searching for tags by\n",
    "attributes, working with lists of tags, and navigating parse trees.\n",
    "\n",
    "Nearly every website you encounter contains stylesheets. Stylesheets are created so\n",
    "that web browsers can render HTML into colorful and aesthetically pleasing designs\n",
    "for humans. You might think of this styling layer as, at the very least, perfectly ignorable\n",
    "for web scrapers—but not so fast! CSS is, in fact, a huge boon for web scrapers\n",
    "because it requires the differentiation of HTML elements in order to style them\n",
    "differently.\n",
    "\n",
    "CSS provides an incentive for web developers to add tags to HTML elements they\n",
    "might have otherwise left with the exact same markup. Some tags might look like this:\n",
    "\n",
    "```\n",
    "<span class=\"green\"></span>\n",
    "```\n",
    "\n",
    "Others look like this:\n",
    "\n",
    "```\n",
    "<span class=\"red\"></span>\n",
    "```\n",
    "\n",
    "Web scrapers can easily separate these two tags based on their class; for example, they\n",
    "might use BeautifulSoup to grab all the red text but none of the green text. Because\n",
    "CSS relies on these identifying attributes to style sites appropriately, you are almost\n",
    "guaranteed that these class and id attributes will be plentiful on most modern\n",
    "websites.\n",
    "\n",
    "Let’s create an example web scraper that scrapes the page located at http://www.pythonscraping.com/pages/warandpeace.html\n",
    "\n",
    "On this page, the lines spoken by characters in the story are in red, whereas the\n",
    "names of characters are in green. You can see the span tags, which reference the\n",
    "appropriate CSS classes, in the following sample of the page’s source code:\n",
    "\n",
    "```\n",
    "<span class=\"red\">Heavens! what a virulent attack!</span> replied\n",
    "<span class=\"green\">the prince</span>, not in the least disconcerted\n",
    "by this reception.\n",
    "```\n",
    "You can grab the entire page and create a BeautifulSoup object with it by using a\n",
    "program similar to the one used in Chapter 4:"
   ]
  },
  {
   "cell_type": "code",
   "execution_count": 1,
   "metadata": {},
   "outputs": [],
   "source": [
    "from urllib.request import urlopen\n",
    "from bs4 import BeautifulSoup\n",
    "\n",
    "html = urlopen('http://www.pythonscraping.com/pages/warandpeace.html')\n",
    "bs = BeautifulSoup(html.read(), 'html.parser')"
   ]
  },
  {
   "cell_type": "markdown",
   "metadata": {},
   "source": [
    "Using this BeautifulSoup object, you can use the find_all function to extract a\n",
    "Python list of proper nouns found by selecting only the text within `<span class=\"green\"></span>` tags (find_all is an extremely flexible function you’ll be\n",
    "using a lot later in this book):"
   ]
  },
  {
   "cell_type": "code",
   "execution_count": 2,
   "metadata": {},
   "outputs": [
    {
     "name": "stdout",
     "output_type": "stream",
     "text": [
      "Anna\n",
      "Pavlovna Scherer\n",
      "Empress Marya\n",
      "Fedorovna\n",
      "Prince Vasili Kuragin\n",
      "Anna Pavlovna\n",
      "St. Petersburg\n",
      "the prince\n",
      "Anna Pavlovna\n",
      "Anna Pavlovna\n",
      "the prince\n",
      "the prince\n",
      "the prince\n",
      "Prince Vasili\n",
      "Anna Pavlovna\n",
      "Anna Pavlovna\n",
      "the prince\n",
      "Wintzingerode\n",
      "King of Prussia\n",
      "le Vicomte de Mortemart\n",
      "Montmorencys\n",
      "Rohans\n",
      "Abbe Morio\n",
      "the Emperor\n",
      "the prince\n",
      "Prince Vasili\n",
      "Dowager Empress Marya Fedorovna\n",
      "the baron\n",
      "Anna Pavlovna\n",
      "the Empress\n",
      "the Empress\n",
      "Anna Pavlovna's\n",
      "Her Majesty\n",
      "Baron\n",
      "Funke\n",
      "The prince\n",
      "Anna\n",
      "Pavlovna\n",
      "the Empress\n",
      "The prince\n",
      "Anatole\n",
      "the prince\n",
      "The prince\n",
      "Anna\n",
      "Pavlovna\n",
      "Anna Pavlovna\n"
     ]
    }
   ],
   "source": [
    "nameList = bs.find_all('span', {'class':'green'})\n",
    "for name in nameList:\n",
    "    print(name.get_text())"
   ]
  },
  {
   "cell_type": "markdown",
   "metadata": {},
   "source": [
    "When run, it should list all the proper nouns in the text, in the order they appear in\n",
    "War and Peace. How does it work? Previously, you’ve called bs.tagName to get the\n",
    "first occurrence of that tag on the page. Now, you’re calling bs.find_all(tagName,\n",
    "tagAttributes) to get a list of all of the tags on the page, rather than just the first.\n",
    "\n",
    "After getting a list of names, the program iterates through all names in the list and\n",
    "prints name.get_text() in order to separate the content from the tags."
   ]
  },
  {
   "cell_type": "markdown",
   "metadata": {},
   "source": [
    "### When to get_text() and When to Preserve Tags\n",
    "\n",
    ".get_text() strips all tags from the document you are working\n",
    "with and returns a Unicode string containing the text only. For\n",
    "example, if you are working with a large block of text that contains\n",
    "many hyperlinks, paragraphs, and other tags, all those will be stripped\n",
    "away, and you’ll be left with a tagless block of text.\n",
    "\n",
    "Keep in mind that it’s much easier to find what you’re looking for\n",
    "in a BeautifulSoup object than in a block of text. Calling\n",
    ".get_text() should always be the last thing you do, immediately\n",
    "before you print, store, or manipulate your final data. In\n",
    "general, you should try to preserve the tag structure of a document\n",
    "as long as possible."
   ]
  },
  {
   "cell_type": "code",
   "execution_count": null,
   "metadata": {},
   "outputs": [],
   "source": []
  }
 ],
 "metadata": {
  "kernelspec": {
   "display_name": "venv",
   "language": "python",
   "name": "python3"
  },
  "language_info": {
   "codemirror_mode": {
    "name": "ipython",
    "version": 3
   },
   "file_extension": ".py",
   "mimetype": "text/x-python",
   "name": "python",
   "nbconvert_exporter": "python",
   "pygments_lexer": "ipython3",
   "version": "3.12.9"
  }
 },
 "nbformat": 4,
 "nbformat_minor": 2
}
